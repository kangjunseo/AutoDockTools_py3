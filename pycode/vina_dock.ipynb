{
 "cells": [
  {
   "cell_type": "code",
   "execution_count": 1,
   "id": "1df8890b-a0b0-4f2f-af5d-d6fc9baefe1c",
   "metadata": {},
   "outputs": [
    {
     "name": "stderr",
     "output_type": "stream",
     "text": [
      "/tmp/ipykernel_3427336/4274587102.py:6: DtypeWarning: Columns (6,8,9,10,11,39) have mixed types. Specify dtype option on import or set low_memory=False.\n",
      "  rec_lig_df = pd.read_csv(\"IUPHAR/interactions.csv\", skiprows=[0])\n"
     ]
    },
    {
     "data": {
      "text/html": [
       "<div>\n",
       "<style scoped>\n",
       "    .dataframe tbody tr th:only-of-type {\n",
       "        vertical-align: middle;\n",
       "    }\n",
       "\n",
       "    .dataframe tbody tr th {\n",
       "        vertical-align: top;\n",
       "    }\n",
       "\n",
       "    .dataframe thead th {\n",
       "        text-align: right;\n",
       "    }\n",
       "</style>\n",
       "<table border=\"1\" class=\"dataframe\">\n",
       "  <thead>\n",
       "    <tr style=\"text-align: right;\">\n",
       "      <th></th>\n",
       "      <th>Target</th>\n",
       "      <th>Target ID</th>\n",
       "      <th>Ligand</th>\n",
       "      <th>Ligand ID</th>\n",
       "    </tr>\n",
       "  </thead>\n",
       "  <tbody>\n",
       "    <tr>\n",
       "      <th>21609</th>\n",
       "      <td>TRPV1</td>\n",
       "      <td>507.0</td>\n",
       "      <td>anandamide</td>\n",
       "      <td>2364</td>\n",
       "    </tr>\n",
       "    <tr>\n",
       "      <th>21610</th>\n",
       "      <td>TRPV1</td>\n",
       "      <td>507.0</td>\n",
       "      <td>DkTx</td>\n",
       "      <td>4178</td>\n",
       "    </tr>\n",
       "    <tr>\n",
       "      <th>21611</th>\n",
       "      <td>TRPV1</td>\n",
       "      <td>507.0</td>\n",
       "      <td>RhTx</td>\n",
       "      <td>12544</td>\n",
       "    </tr>\n",
       "    <tr>\n",
       "      <th>21612</th>\n",
       "      <td>TRPV1</td>\n",
       "      <td>507.0</td>\n",
       "      <td>[&lt;sup&gt;3&lt;/sup&gt;H]resiniferatoxin</td>\n",
       "      <td>4091</td>\n",
       "    </tr>\n",
       "    <tr>\n",
       "      <th>21613</th>\n",
       "      <td>TRPV1</td>\n",
       "      <td>507.0</td>\n",
       "      <td>zucapsaicin</td>\n",
       "      <td>11576</td>\n",
       "    </tr>\n",
       "  </tbody>\n",
       "</table>\n",
       "</div>"
      ],
      "text/plain": [
       "      Target  Target ID                          Ligand  Ligand ID\n",
       "21609  TRPV1      507.0                      anandamide       2364\n",
       "21610  TRPV1      507.0                            DkTx       4178\n",
       "21611  TRPV1      507.0                            RhTx      12544\n",
       "21612  TRPV1      507.0  [<sup>3</sup>H]resiniferatoxin       4091\n",
       "21613  TRPV1      507.0                     zucapsaicin      11576"
      ]
     },
     "execution_count": 1,
     "metadata": {},
     "output_type": "execute_result"
    }
   ],
   "source": [
    "import pandas as pd\n",
    "import pubchempy as pcp\n",
    "import os\n",
    "from vina import Vina\n",
    "\n",
    "rec_lig_df = pd.read_csv(\"IUPHAR/interactions.csv\", skiprows=[0])\n",
    "rec_lig_df = rec_lig_df[['Target', 'Target ID', 'Ligand', 'Ligand ID']].drop_duplicates().dropna()\n",
    "TRPV1_lig_df = rec_lig_df[rec_lig_df['Target ID']==507.0].drop_duplicates()\n",
    "TRPV1_lig_df.head()"
   ]
  },
  {
   "cell_type": "code",
   "execution_count": 2,
   "id": "781f8ff6-7c78-4083-871d-a2e65de435bd",
   "metadata": {},
   "outputs": [
    {
     "data": {
      "text/plain": [
       "44"
      ]
     },
     "execution_count": 2,
     "metadata": {},
     "output_type": "execute_result"
    }
   ],
   "source": [
    "def contains_invalid_chars(smiles):\n",
    "    invalid_chars = ['(', ')', '<', '>']\n",
    "    return any(char in smiles for char in invalid_chars)\n",
    "\n",
    "TRPV_ligands = rec_lig_df[rec_lig_df['Target ID']==507.0].drop_duplicates()\n",
    "TRPV_ligands = TRPV_ligands[~TRPV_ligands['Ligand'].apply(contains_invalid_chars)]\n",
    "TRPV_ligands = TRPV_ligands['Ligand'].tolist()\n",
    "len(TRPV_ligands)"
   ]
  },
  {
   "cell_type": "code",
   "execution_count": 5,
   "id": "ff919934-da18-4148-9417-565b17c59c0f",
   "metadata": {},
   "outputs": [
    {
     "name": "stdout",
     "output_type": "stream",
     "text": [
      "12S-HPETE.pdb\t  anandamide.pdb\t\t MRS-1477.pdb\n",
      "2-APB.pdb\t  arvanil.pdb\t\t\t NADA.pdb\n",
      "5S-HETE.pdb\t  asivatrep.pdb\t\t\t olvanil.pdb\n",
      "5S-HPETE.pdb\t  AZD1386.pdb\t\t\t phenylacetylrinvanil.pdb\n",
      "A-1165442.pdb\t  BCTC.pdb\t\t\t piperine.pdb\n",
      "A425619.pdb\t  camphor.pdb\t\t\t PPAHV.pdb\n",
      "A778317.pdb\t  capsaicin.pdb\t\t\t resiniferatoxin.pdb\n",
      "agatoxin_489.pdb  capsazepine.pdb\t\t SB366791.pdb\n",
      "allicin.pdb\t  diphenylboronic_anhydride.pdb  SB452533.pdb\n",
      "AMG517.pdb\t  JNJ17203212.pdb\t\t SB705498.pdb\n",
      "AMG628.pdb\t  JYL1421.pdb\t\t\t zucapsaicin.pdb\n",
      "AMG_9810.pdb\t  mavatrep.pdb\n"
     ]
    }
   ],
   "source": [
    "!ls IUPHAR/IUPHAR_dock/"
   ]
  },
  {
   "cell_type": "code",
   "execution_count": 16,
   "id": "7f87a494-d933-43c2-a14e-343894d13257",
   "metadata": {},
   "outputs": [
    {
     "name": "stdout",
     "output_type": "stream",
     "text": [
      "Computing Vina grid ... done.\n",
      "Performing docking (random seed: 530775752) ... \n",
      "0%   10   20   30   40   50   60   70   80   90   100%\n",
      "|----|----|----|----|----|----|----|----|----|----|\n",
      "***************************************************\n"
     ]
    }
   ],
   "source": [
    "def vina_dock(receptor, ligand):\n",
    "    v = Vina(sf_name='vina')\n",
    "    v.set_receptor(receptor) # receptor pdbqt path\n",
    "    v.set_ligand_from_file(ligand) # ligand pdbqt path\n",
    "    v.compute_vina_maps(center=[-23.075, -2.183, -7.899], box_size=[30, 30, 30])\n",
    "\n",
    "    # Dock the ligand\n",
    "    v.dock(exhaustiveness=32, n_poses=20)\n",
    "    v.write_poses('1iep_ligand_vina_out.pdbqt', n_poses=5, overwrite=True)\n",
    "\n",
    "receptor = 'receptor/apo_8gfa.pdbqt'\n",
    "output_dir = 'IUPHAR/IUPHAR_dock/pdbqt'\n",
    "ligand = 'capsaicin'\n",
    "vina_dock(receptor, os.path.join(output_dir, f'{ligand}.pdbqt'))"
   ]
  },
  {
   "cell_type": "code",
   "execution_count": 13,
   "id": "5a46c6b4-c87c-4743-a549-c62bdc2dfab0",
   "metadata": {},
   "outputs": [
    {
     "name": "stdout",
     "output_type": "stream",
     "text": [
      "Processed /home/kjs/Downloads/AutoDockTools_py3/pycode/IUPHAR/IUPHAR_dock/capsaicin.pdb to IUPHAR/IUPHAR_dock/pdbqt/capsaicin.pdbqt\n",
      "Standard Output:\n",
      "\n"
     ]
    }
   ],
   "source": [
    "import os\n",
    "import dock\n",
    "\n",
    "ligand = 'capsaicin'\n",
    "lig_dir = 'IUPHAR/IUPHAR_dock/'\n",
    "output_dir = 'IUPHAR/IUPHAR_dock/pdbqt'\n",
    "os.makedirs(output_dir, exist_ok=True)\n",
    "for lig in lig_dir:\n",
    "    dock.prepare_pdbqt(os.path.join(os.getcwd(), lig_dir, f'{lig}.pdb'), output_dir)"
   ]
  },
  {
   "cell_type": "code",
   "execution_count": null,
   "id": "ceab561a-e4a0-42c8-a477-0291ce0bbc5d",
   "metadata": {},
   "outputs": [],
   "source": [
    "\n",
    "# Score the current pose\n",
    "energy = v.score()\n",
    "print('Score before minimization: %.3f (kcal/mol)' % energy[0])\n",
    "\n",
    "# Minimized locally the current pose\n",
    "energy_minimized = v.optimize()\n",
    "print('Score after minimization : %.3f (kcal/mol)' % energy_minimized[0])\n",
    "v.write_pose('1iep_ligand_minimized.pdbqt', overwrite=True)\n",
    "\n",
    "# Dock the ligand\n",
    "v.dock(exhaustiveness=32, n_poses=20)\n",
    "v.write_poses('1iep_ligand_vina_out.pdbqt', n_poses=5, overwrite=True)"
   ]
  }
 ],
 "metadata": {
  "kernelspec": {
   "display_name": "Python 3 (ipykernel)",
   "language": "python",
   "name": "python3"
  },
  "language_info": {
   "codemirror_mode": {
    "name": "ipython",
    "version": 3
   },
   "file_extension": ".py",
   "mimetype": "text/x-python",
   "name": "python",
   "nbconvert_exporter": "python",
   "pygments_lexer": "ipython3",
   "version": "3.11.6"
  }
 },
 "nbformat": 4,
 "nbformat_minor": 5
}
